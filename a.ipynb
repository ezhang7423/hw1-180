{
 "metadata": {
  "language_info": {
   "codemirror_mode": {
    "name": "ipython",
    "version": 3
   },
   "file_extension": ".py",
   "mimetype": "text/x-python",
   "name": "python",
   "nbconvert_exporter": "python",
   "pygments_lexer": "ipython3",
   "version": "3.8.6-final"
  },
  "orig_nbformat": 2,
  "kernelspec": {
   "name": "python3",
   "display_name": "Python 3",
   "language": "python"
  }
 },
 "nbformat": 4,
 "nbformat_minor": 2,
 "cells": [
  {
   "cell_type": "code",
   "execution_count": 1,
   "metadata": {},
   "outputs": [
    {
     "output_type": "error",
     "ename": "ModuleNotFoundError",
     "evalue": "No module named 'altair'",
     "traceback": [
      "\u001b[0;31m---------------------------------------------------------------------------\u001b[0m",
      "\u001b[0;31mModuleNotFoundError\u001b[0m                       Traceback (most recent call last)",
      "\u001b[0;32m<ipython-input-1-da13d7c16e5a>\u001b[0m in \u001b[0;36m<module>\u001b[0;34m\u001b[0m\n\u001b[0;32m----> 1\u001b[0;31m \u001b[0;32mimport\u001b[0m \u001b[0maltair\u001b[0m \u001b[0;32mas\u001b[0m \u001b[0malt\u001b[0m\u001b[0;34m\u001b[0m\u001b[0;34m\u001b[0m\u001b[0m\n\u001b[0m\u001b[1;32m      2\u001b[0m \u001b[0;32mimport\u001b[0m \u001b[0mnumpy\u001b[0m \u001b[0;32mas\u001b[0m \u001b[0mnp\u001b[0m\u001b[0;34m\u001b[0m\u001b[0;34m\u001b[0m\u001b[0m\n\u001b[1;32m      3\u001b[0m \u001b[0;34m\u001b[0m\u001b[0m\n\u001b[1;32m      4\u001b[0m \u001b[0;31m# 0 is undrafted\u001b[0m\u001b[0;34m\u001b[0m\u001b[0;34m\u001b[0m\u001b[0;34m\u001b[0m\u001b[0m\n\u001b[1;32m      5\u001b[0m \u001b[0;31m# 1 is drafted\u001b[0m\u001b[0;34m\u001b[0m\u001b[0;34m\u001b[0m\u001b[0;34m\u001b[0m\u001b[0m\n",
      "\u001b[0;31mModuleNotFoundError\u001b[0m: No module named 'altair'"
     ]
    }
   ],
   "source": [
    "import altair as alt\n",
    "import numpy as np\n",
    "\n",
    "# 0 is undrafted\n",
    "# 1 is drafted\n",
    "df = pd.DataFrame(\n",
    "    np.array(\n",
    "        [\n",
    "            [6.4, 186, 0],\n",
    "            [6.7, 215, 0],\n",
    "            [6.7, 210, 0],\n",
    "            [6.7, 230, 0],\n",
    "            [6.6, 227, 0],\n",
    "            [6.3, 190, 0],\n",
    "            [6.3, 210, 0],\n",
    "            [6.0, 180, 0],\n",
    "            [6.6, 190, 0],\n",
    "            [6.5, 185, 0],\n",
    "            [6.2, 205, 0],\n",
    "            [6.5, 205, 0],\n",
    "            [6.7, 225, 0],\n",
    "            [6.2, 185, 0],\n",
    "            [5.11, 175, 0],\n",
    "   [25,\t6.8,\t235, 1],\n",
    "[24,\t6.0,\t185, 1],\n",
    "[21,\t6.5,\t215, 1],\n",
    "[30,\t6.8,\t220, 1],\n",
    "[29,\t6.6,\t214, 1],\n",
    "[27,\t6.10,\t279, 1],\n",
    "[37,\t6.6,\t215, 1],\n",
    "[29,\t6.7,\t210, 1],\n",
    "[21,\t6.3,\t181, 1],\n",
    "[28,\t6.10,\t253, 1],\n",
    "        ]\n",
    "    )\n",
    ")\n"
   ]
  },
  {
   "cell_type": "code",
   "execution_count": null,
   "metadata": {},
   "outputs": [],
   "source": []
  }
 ]
}